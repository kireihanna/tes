{
 "cells": [
  {
   "cell_type": "markdown",
   "metadata": {},
   "source": [
    "# TUGAS 2 : TURUNAN"
   ]
  },
  {
   "cell_type": "markdown",
   "metadata": {},
   "source": [
    "Pertama - tama, sympy diimport sebagai sym, kemudian import simbol * . \"sym.init_printing\" berfungsi sebagai pernyataan untuk memunculkan soal yang telah dimasukkan. a,c,x,y,z diidentifikasi sebagai simbol, sehingga dalam penggunaannya dalam soal, tidak akan terjadi sintaks error. "
   ]
  },
  {
   "cell_type": "code",
   "execution_count": 1,
   "metadata": {},
   "outputs": [],
   "source": [
    "import sympy as sym\n",
    "from sympy import *\n",
    "sym.init_printing()\n",
    "\n",
    "a, b, x, y, z = sym.symbols('a b x y z')"
   ]
  },
  {
   "cell_type": "markdown",
   "metadata": {},
   "source": [
    "Di bawah ini merupakan soal nomor 5. Sintaks \"print\" digunakan untuk memunculkan kalimat \"Nomor 5\" pada output program. Di bawah ini, x diidentifikasi sebagai soal turunan. Untuk mencari turunan, maka digunakan \"sym.Derivative\" kemudian diikuti dengan simbol x, karena x telah diidentifikasi oleh program sebagai soal dari turunan, sehingga program akan mengeksekusi soal tersebut."
   ]
  },
  {
   "cell_type": "code",
   "execution_count": 3,
   "metadata": {},
   "outputs": [
    {
     "name": "stdout",
     "output_type": "stream",
     "text": [
      "Nomor 5 :\n"
     ]
    },
    {
     "data": {
      "image/png": "[encoded data removed]",
      "text/latex": [
       "$\\displaystyle \\frac{d}{d x} 7 \\sqrt{x}$"
      ],
      "text/plain": [
       "d       \n",
       "──(7⋅√x)\n",
       "dx      "
      ]
     },
     "execution_count": 3,
     "metadata": {},
     "output_type": "execute_result"
    }
   ],
   "source": [
    "print ('Nomor 5 :')\n",
    "x = (sym.sqrt(x)) + (8*(sym.sqrt(x))) - (2*(sym.sqrt(x)))\n",
    "sym. Derivative (x)"
   ]
  },
  {
   "cell_type": "markdown",
   "metadata": {},
   "source": [
    "Berikut ini merupakan soa nomor 10. Y didefinisikan sebagai soal turunan. Pengulangan 'y' dibawah berfungsi untuk menampilkan soal."
   ]
  },
  {
   "cell_type": "code",
   "execution_count": 4,
   "metadata": {},
   "outputs": [
    {
     "name": "stdout",
     "output_type": "stream",
     "text": [
      "Nomor 10: \n"
     ]
    },
    {
     "data": {
      "image/png": "[encoded data removed]",
      "text/latex": [
       "$\\displaystyle \\left(y - 4\\right) \\left(y^{2} + 2 y\\right)$"
      ],
      "text/plain": [
       "        ⎛ 2      ⎞\n",
       "(y - 4)⋅⎝y  + 2⋅y⎠"
      ]
     },
     "execution_count": 4,
     "metadata": {},
     "output_type": "execute_result"
    }
   ],
   "source": [
    "print ('Nomor 10: ')\n",
    "y = (y - 4)* (2*y + y**2)\n",
    "y"
   ]
  },
  {
   "cell_type": "markdown",
   "metadata": {},
   "source": [
    "Agar soal tersebut dapat dikerjakan oleh program, ditambahkan perintah 'doit()' pada akhir soal. "
   ]
  },
  {
   "cell_type": "code",
   "execution_count": 6,
   "metadata": {},
   "outputs": [
    {
     "data": {
      "image/png": "[encoded data removed]",
      "text/latex": [
       "$\\displaystyle y^{2} + 2 y + \\left(y - 4\\right) \\left(2 y + 2\\right)$"
      ],
      "text/plain": [
       " 2                          \n",
       "y  + 2⋅y + (y - 4)⋅(2⋅y + 2)"
      ]
     },
     "execution_count": 6,
     "metadata": {},
     "output_type": "execute_result"
    }
   ],
   "source": [
    "sym.Derivative(y).doit()"
   ]
  },
  {
   "cell_type": "markdown",
   "metadata": {},
   "source": [
    "'simplify' merupakan perintah untuk menyederhanakan equasi  matematika. Setelah perintah simplify, kita masukkan y yang telah telah diidentifikasi sebagai soal turunan."
   ]
  },
  {
   "cell_type": "code",
   "execution_count": 7,
   "metadata": {},
   "outputs": [
    {
     "data": {
      "image/png": "[encoded data removed]",
      "text/latex": [
       "$\\displaystyle y \\left(y - 4\\right) \\left(y + 2\\right)$"
      ],
      "text/plain": [
       "y⋅(y - 4)⋅(y + 2)"
      ]
     },
     "execution_count": 7,
     "metadata": {},
     "output_type": "execute_result"
    }
   ],
   "source": [
    "simplify(y)"
   ]
  },
  {
   "cell_type": "code",
   "execution_count": null,
   "metadata": {},
   "outputs": [],
   "source": []
  }
 ],
 "metadata": {
  "kernelspec": {
   "display_name": "Python 3",
   "language": "python",
   "name": "python3"
  },
  "language_info": {
   "codemirror_mode": {
    "name": "ipython",
    "version": 3
   },
   "file_extension": ".py",
   "mimetype": "text/x-python",
   "name": "python",
   "nbconvert_exporter": "python",
   "pygments_lexer": "ipython3",
   "version": "3.7.3"
  }
 },
 "nbformat": 4,
 "nbformat_minor": 2
}
